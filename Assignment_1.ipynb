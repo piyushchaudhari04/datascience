{
 "cells": [
  {
   "cell_type": "markdown",
   "metadata": {},
   "source": [
    "## Python Program for n-th Fibonacci number"
   ]
  },
  {
   "cell_type": "code",
   "execution_count": 15,
   "metadata": {},
   "outputs": [
    {
     "name": "stdout",
     "output_type": "stream",
     "text": [
      "5\n"
     ]
    }
   ],
   "source": [
    "# 0,1,1,2,3,5,8,13,21\n",
    "n = 6\n",
    "num1 = 0\n",
    "num2 = 1\n",
    "ans = 0\n",
    "\n",
    "if n==1:\n",
    "    ans = num1\n",
    "elif n==2:\n",
    "    ans = num2\n",
    "else:\n",
    "    for i in range(2, n):\n",
    "        ans = num1 + num2\n",
    "        #ans = 2\n",
    "        num1 = num2\n",
    "        #num1 = 1\n",
    "        num2 = ans\n",
    "        #num2 = 2\n",
    "print(ans)"
   ]
  },
  {
   "cell_type": "markdown",
   "metadata": {},
   "source": [
    "## Python Program for Sum of squares of first n natural numbers"
   ]
  },
  {
   "cell_type": "code",
   "execution_count": 18,
   "metadata": {},
   "outputs": [
    {
     "name": "stdout",
     "output_type": "stream",
     "text": [
      "30\n"
     ]
    }
   ],
   "source": [
    "n = 5\n",
    "# answer = 1^2 + 2^2 +3^2 + 4^2 + 5^2\n",
    "answer = 0\n",
    "for i in range(1,n+1):\n",
    "    answer = answer + i*i\n",
    "print(answer)"
   ]
  },
  {
   "cell_type": "markdown",
   "metadata": {},
   "source": [
    "## Python Program to find sum of list"
   ]
  },
  {
   "cell_type": "code",
   "execution_count": 19,
   "metadata": {},
   "outputs": [
    {
     "name": "stdout",
     "output_type": "stream",
     "text": [
      "15\n"
     ]
    }
   ],
   "source": [
    "thislist = [2,3,5,2,3]\n",
    "answer = 0 \n",
    "for i in thislist:\n",
    "    answer = answer + i\n",
    "print(answer)"
   ]
  },
  {
   "cell_type": "markdown",
   "metadata": {},
   "source": [
    "## Python program to find largest number in a list"
   ]
  },
  {
   "cell_type": "code",
   "execution_count": 26,
   "metadata": {},
   "outputs": [
    {
     "name": "stdout",
     "output_type": "stream",
     "text": [
      "10\n"
     ]
    }
   ],
   "source": [
    "thislist = [2,4,3,5,1,10]\n",
    "# output = 0\n",
    "max_value = thislist[0]\n",
    "for i in thislist:\n",
    "    if max_value < i:\n",
    "        max_value = i\n",
    "        \n",
    "print(max_value)"
   ]
  },
  {
   "cell_type": "markdown",
   "metadata": {},
   "source": [
    "### Python program to find largest number in a list"
   ]
  },
  {
   "cell_type": "code",
   "execution_count": 25,
   "metadata": {},
   "outputs": [
    {
     "name": "stdout",
     "output_type": "stream",
     "text": [
      "2\n"
     ]
    }
   ],
   "source": [
    "thislist = [2,4,3,5,11,10]\n",
    "min_value = thislist[0]\n",
    "for i in thislist:\n",
    "    if min_value>i:\n",
    "        min_value = i\n",
    "  \n",
    "print(min_value)"
   ]
  },
  {
   "cell_type": "markdown",
   "metadata": {},
   "source": [
    "### Reversing a List in Python"
   ]
  },
  {
   "cell_type": "code",
   "execution_count": 33,
   "metadata": {},
   "outputs": [
    {
     "name": "stdout",
     "output_type": "stream",
     "text": [
      "[15, 13, 14, 12, 11, 10]\n"
     ]
    }
   ],
   "source": [
    "thislist = [10, 11, 12, 14, 13, 15]\n",
    "# output = [15,13,14,12,11,10]\n",
    "#new_list = thislist[::-1]\n",
    "thislist.reverse()\n",
    "print(thislist)"
   ]
  },
  {
   "cell_type": "markdown",
   "metadata": {},
   "source": [
    "### Python program to print even length words in a string"
   ]
  },
  {
   "cell_type": "code",
   "execution_count": 41,
   "metadata": {},
   "outputs": [
    {
     "name": "stdout",
     "output_type": "stream",
     "text": [
      "a\n"
     ]
    }
   ],
   "source": [
    "inpstr = \"This is a python language\"\n",
    "words = inpstr.split()\n",
    "for word in words:\n",
    "    if len(word)%2==1:\n",
    "        print(word)"
   ]
  },
  {
   "cell_type": "markdown",
   "metadata": {},
   "source": [
    "### Program to print the strings which contains all vowels"
   ]
  },
  {
   "cell_type": "code",
   "execution_count": 47,
   "metadata": {},
   "outputs": [
    {
     "name": "stdout",
     "output_type": "stream",
     "text": [
      "abeeighiobhkuul\n",
      "accepted\n"
     ]
    }
   ],
   "source": [
    "inpstr = \"ABeeIghiObhkUul\"\n",
    "inpstr = inpstr.lower()\n",
    "print(inpstr)\n",
    "vowels = ['a','e','i','o','u']\n",
    "count = set()\n",
    "\n",
    "for ch in inpstr:\n",
    "    if ch in vowels:\n",
    "        count.add(ch)\n",
    "\n",
    "if len(count)==5:\n",
    "    print(\"accepted\")\n",
    "else:\n",
    "    print(\"not accepted\")"
   ]
  },
  {
   "cell_type": "markdown",
   "metadata": {},
   "source": [
    "### Python program to add two Matrices"
   ]
  },
  {
   "cell_type": "code",
   "execution_count": 50,
   "metadata": {},
   "outputs": [
    {
     "name": "stdout",
     "output_type": "stream",
     "text": [
      "[[10, 10, 10], [10, 10, 10], [10, 10, 10]]\n"
     ]
    }
   ],
   "source": [
    "X = [[1,2,3],\n",
    "    [4 ,5,6],\n",
    "    [7 ,8,9]]\n",
    "\n",
    "Y = [[9,8,7],\n",
    "    [6,5,4],\n",
    "    [3,2,1]]\n",
    "\n",
    "result = [[0,0,0],\n",
    "        [0,0,0],\n",
    "        [0,0,0]]\n",
    "\n",
    "for i in range(len(X)):\n",
    "    for j in range(len(Y)):\n",
    "        result[i][j] = X[i][j] + Y[i][j]\n",
    "    \n",
    "print(result)"
   ]
  },
  {
   "cell_type": "code",
   "execution_count": 56,
   "metadata": {},
   "outputs": [
    {
     "name": "stdout",
     "output_type": "stream",
     "text": [
      "[[10, 10, 10], [10, 10, 10], [10, 10, 10]]\n"
     ]
    }
   ],
   "source": [
    "X = [[1,2,3],\n",
    "    [4 ,5,6],\n",
    "    [7 ,8,9]]\n",
    "  \n",
    "Y = [[9,8,7],\n",
    "    [6,5,4],\n",
    "    [3,2,1]]\n",
    "result = []\n",
    "for t in zip(X, Y):\n",
    "    temp = []\n",
    "    for x in zip(*t):\n",
    "        temp.append(sum(x))\n",
    "    result.append(temp)\n",
    "print(result)"
   ]
  },
  {
   "cell_type": "markdown",
   "metadata": {},
   "source": [
    "### Create a Numpy array filled with all zeros"
   ]
  },
  {
   "cell_type": "code",
   "execution_count": 62,
   "metadata": {},
   "outputs": [
    {
     "name": "stdout",
     "output_type": "stream",
     "text": [
      "[[0 0 0]\n",
      " [0 0 0]\n",
      " [0 0 0]]\n"
     ]
    }
   ],
   "source": [
    "import numpy as np \n",
    "zero_array = np.zeros([3,3], int)\n",
    "print(zero_array)"
   ]
  },
  {
   "cell_type": "markdown",
   "metadata": {},
   "source": [
    "### Find the most frequent value in a NumPy array"
   ]
  },
  {
   "cell_type": "code",
   "execution_count": 70,
   "metadata": {},
   "outputs": [
    {
     "name": "stdout",
     "output_type": "stream",
     "text": [
      "[0 5 2 1 1 1]\n",
      "1\n",
      "1\n"
     ]
    }
   ],
   "source": [
    "x = np.array([1,2,3,4,5,1,2,1,1,1])\n",
    "# output = 1\n",
    "\n",
    "count = np.bincount(x)\n",
    "print(count)\n",
    "# max_value = count[0]\n",
    "# result = 0\n",
    "# for ind, i in enumerate(count):\n",
    "#     if max_value<i:\n",
    "#         max_value = i\n",
    "#         result = ind\n",
    "# print(result)\n",
    "print(count.argmax())\n",
    "print(np.bincount(x).argmax())"
   ]
  },
  {
   "cell_type": "code",
   "execution_count": 72,
   "metadata": {},
   "outputs": [
    {
     "name": "stdout",
     "output_type": "stream",
     "text": [
      "9\n"
     ]
    }
   ],
   "source": [
    "gfg = np.matrix('[1, 2, 3; 4, 5, 6; 7, 8, 9]')\n",
    "print(gfg.max())"
   ]
  },
  {
   "cell_type": "code",
   "execution_count": 78,
   "metadata": {},
   "outputs": [
    {
     "name": "stdout",
     "output_type": "stream",
     "text": [
      "9\n"
     ]
    }
   ],
   "source": [
    "X = np.array([[1,2,3],[4 ,5,6],[7 ,8,9]])\n",
    "\n",
    "max_value = 0\n",
    "\n",
    "for i in np.nditer(X):\n",
    "    if max_value<i:\n",
    "        max_value = i\n",
    "print(max_value)"
   ]
  },
  {
   "cell_type": "code",
   "execution_count": null,
   "metadata": {},
   "outputs": [],
   "source": [
    "X = np.array([[1,2,3],[4 ,5,6],[7 ,8,9]])\n",
    "# ouput = 45"
   ]
  },
  {
   "cell_type": "markdown",
   "metadata": {},
   "source": [
    "### Replace NumPy array elements that doesn’t satisfy the given condition"
   ]
  },
  {
   "cell_type": "code",
   "execution_count": 84,
   "metadata": {},
   "outputs": [
    {
     "name": "stdout",
     "output_type": "stream",
     "text": [
      "[ 5  3  4 -1  8]\n"
     ]
    }
   ],
   "source": [
    "arr = np.array([5,3,4,7,8])\n",
    "# ouput = [0,3,4,0,0]\n",
    "arr[(arr%2==1)&(arr>5)] = -1\n",
    "print(arr)"
   ]
  },
  {
   "cell_type": "code",
   "execution_count": null,
   "metadata": {},
   "outputs": [],
   "source": []
  }
 ],
 "metadata": {
  "kernelspec": {
   "display_name": "Python 3",
   "language": "python",
   "name": "python3"
  },
  "language_info": {
   "codemirror_mode": {
    "name": "ipython",
    "version": 3
   },
   "file_extension": ".py",
   "mimetype": "text/x-python",
   "name": "python",
   "nbconvert_exporter": "python",
   "pygments_lexer": "ipython3",
   "version": "3.7.5"
  }
 },
 "nbformat": 4,
 "nbformat_minor": 4
}
