{
 "cells": [
  {
   "cell_type": "markdown",
   "metadata": {},
   "source": [
    "# Course Material\n",
    "## books \n",
    "* https://jakevdp.github.io/PythonDataScienceHandbook/  Python DataScience Handbook\n",
    "* https://github.com/kamalkraj/books/blob/master/Head%20First%20Python.pdf  Head first Python \n",
    "* https://tanthiamhuat.files.wordpress.com/2018/04/pythondatasciencehandbook.pdf  "
   ]
  },
  {
   "cell_type": "markdown",
   "metadata": {},
   "source": [
    "# What is python"
   ]
  },
  {
   "cell_type": "markdown",
   "metadata": {},
   "source": [
    "Python is an interpreted, object-oriented, high-level programming language with dynamic semantics. Its high-level built in data structures, combined with dynamic typing and dynamic binding, make it very attractive for Rapid Application Development, as well as for use as a scripting or glue language to connect existing components together. Python's simple, easy to learn syntax emphasizes readability and therefore reduces the cost of program maintenance. Python supports modules and packages, which encourages program modularity and code reuse. The Python interpreter and the extensive standard library are available in source or binary form without charge for all major platforms, and can be freely distributed."
   ]
  },
  {
   "cell_type": "markdown",
   "metadata": {},
   "source": [
    "# Official link \n",
    "https://www.python.org/"
   ]
  },
  {
   "cell_type": "markdown",
   "metadata": {},
   "source": [
    "# Install Python "
   ]
  },
  {
   "cell_type": "markdown",
   "metadata": {},
   "source": [
    "Install python from the below link\n",
    "https://www.python.org/downloads/windows/"
   ]
  },
  {
   "cell_type": "markdown",
   "metadata": {},
   "source": [
    "## Why Python for DataScience"
   ]
  },
  {
   "cell_type": "markdown",
   "metadata": {},
   "source": [
    "Simplicity\n",
    "* Python is one of the easiest languages to start your journey. Also, its simplicity does not limit your functional possibilities.\n",
    "\n",
    "What gives Python such flexibility? There are multiple factors:\n",
    "* Python is a free and open-source language\n",
    "* This is a high-level programming\n",
    "* Python is interpreted\n",
    "* It has an enormous community\n",
    "\n",
    "Rich Support with libraries \n",
    "* Greate library support for Machine learning and DataScience tasks.\n",
    "* For example there are libraries like Pandas, Numpy, SciPy etc which are ruling all the development accross the globe. \n",
    "\n",
    "Lot of Web frameworks in python \n",
    "* Django\n",
    "* Flask\n",
    "* Bottle\n",
    "* FastAPI\n",
    "\n",
    "Huge Community \n",
    "* Having huge community helps solve problems fast as well as increases the learning curve.\n"
   ]
  },
  {
   "cell_type": "markdown",
   "metadata": {},
   "source": [
    "# Data Structures in Python \n",
    "\n",
    "## There are four collection data types in the Python programming language:\n",
    "\n",
    "* List is a collection which is ordered and changeable. Allows duplicate members.\n",
    "* Tuple is a collection which is ordered and unchangeable. Allows duplicate members.\n",
    "* Set is a collection which is unordered and unindexed. No duplicate members.\n",
    "* Dictionary is a collection which is unordered and changeable. No duplicate members."
   ]
  },
  {
   "cell_type": "markdown",
   "metadata": {},
   "source": [
    "## List\n",
    "\n",
    "* List are used to store multiple items in a single variable.\n",
    "* list items are ordered, changeable and allow duplicate values. \n",
    "* List items are indexed where index starts from 0"
   ]
  },
  {
   "cell_type": "code",
   "execution_count": 55,
   "metadata": {},
   "outputs": [
    {
     "name": "stdout",
     "output_type": "stream",
     "text": [
      "[1, 2, 3, 4, 5, 6, 7]\n",
      "['python', 'java', 'Ruby']\n",
      "7\n",
      "['abc', 34, True, 40, 'male']\n",
      "<class 'list'>\n",
      "True\n"
     ]
    }
   ],
   "source": [
    " \n",
    "my_list = [1,2,3,4,5,6,7]\n",
    "\n",
    "str_list = [\"python\", \"java\", \"Ruby\"]\n",
    "\n",
    "print(my_list)\n",
    "print(str_list)\n",
    "print(len(my_list))\n",
    "\n",
    "# list can also contain different data types. \n",
    "hetero_list = [\"abc\", 34, True, 40, \"male\"]\n",
    "print(hetero_list)\n",
    "\n",
    "# Though data type for variable is not defined in python but the object has a data type. \n",
    "print(type(my_list))\n",
    "print(isinstance(my_list, list))\n"
   ]
  },
  {
   "cell_type": "code",
   "execution_count": 57,
   "metadata": {},
   "outputs": [
    {
     "name": "stdout",
     "output_type": "stream",
     "text": [
      "Ruby\n"
     ]
    }
   ],
   "source": [
    "str_list = [\"python\", \"java\", \"Ruby\"]\n",
    "print(str_list[2])"
   ]
  },
  {
   "cell_type": "code",
   "execution_count": 58,
   "metadata": {},
   "outputs": [
    {
     "name": "stdout",
     "output_type": "stream",
     "text": [
      "['Python', 'Java', 'Ruby']\n",
      "Java\n",
      "Python\n",
      "['cherry', 'orange', 'kiwi']\n",
      "['apple', 'banana', 'cherry', 'orange']\n",
      "Exists\n",
      "apple\n",
      "banana\n",
      "cherry\n",
      "orange\n",
      "kiwi\n",
      "melon\n",
      "mango\n",
      "['apple', 'banana', 'cherry', 'orange', 'kiwi', 'melon', 'mango', 'grapes']\n",
      "['apple', 'cherry', 'orange', 'kiwi', 'melon', 'mango', 'grapes']\n",
      "['apple', 'cherry']\n",
      "['apple', 'banana']\n",
      "['banana', 'kiwi', 'mango', 'orange', 'pineapple']\n",
      "['a', 'b', 'c', 1, 2, 3]\n",
      "['a', 'b', 'c', 1, 2, 3]\n"
     ]
    }
   ],
   "source": [
    "# The List Constructor\n",
    "\n",
    "my_list = list((\"Python\", \"Java\", \"Ruby\"))\n",
    "print(my_list)\n",
    "\n",
    "# Access the elements from the list \n",
    "print(my_list[1])\n",
    "\n",
    "# neagative index \n",
    "\n",
    "print(my_list[-3])\n",
    "\n",
    "# Range of indexes \n",
    "thislist = [\"apple\", \"banana\", \"cherry\", \"orange\", \"kiwi\", \"melon\", \"mango\"]\n",
    "print(thislist[2:5])\n",
    "\n",
    "\n",
    "thislist = [\"apple\", \"banana\", \"cherry\", \"orange\", \"kiwi\", \"melon\", \"mango\"]\n",
    "print(thislist[:4])\n",
    "\n",
    "\n",
    "# HW try out the examples of neagative index\n",
    "\n",
    "\n",
    "# check if item exists \n",
    "\n",
    "if \"apple\" in thislist:\n",
    "    print(\"Exists\")\n",
    "else:\n",
    "    print(\"Does Not Exists\")\n",
    "    \n",
    "    \n",
    "# loop over the list \n",
    "\n",
    "for fruits in thislist:\n",
    "    print(fruits)\n",
    "    \n",
    "\n",
    "# Add one element in the list\n",
    "\n",
    "thislist.append(\"grapes\")\n",
    "print(thislist)\n",
    "\n",
    "\n",
    "# Remove an element from the list \n",
    "thislist.remove(\"banana\")\n",
    "print(thislist)\n",
    "\n",
    "\n",
    "# remove element from a specific index \n",
    "thislist = [\"apple\", \"banana\", \"cherry\"]\n",
    "thislist.pop(1)\n",
    "print(thislist)\n",
    "\n",
    "\n",
    "# remove the last element from the list \n",
    "thislist = [\"apple\", \"banana\", \"cherry\"]\n",
    "thislist.pop()\n",
    "print(thislist)\n",
    "\n",
    "# Sort the list \n",
    "thislist = [\"orange\", \"mango\", \"kiwi\", \"pineapple\", \"banana\"]\n",
    "thislist.sort()\n",
    "print(thislist)\n",
    "\n",
    "# HW sort the list in descending order \n",
    "\n",
    "\n",
    "# join a list \n",
    "list1 = [\"a\", \"b\", \"c\"]\n",
    "list2 = [1, 2, 3]\n",
    "\n",
    "list3 = list1 + list2\n",
    "print(list3)\n",
    "\n",
    "\n",
    "list1 = [\"a\", \"b\" , \"c\"]\n",
    "list2 = [1, 2, 3]\n",
    "\n",
    "list1.extend(list2)\n",
    "print(list1)"
   ]
  },
  {
   "cell_type": "code",
   "execution_count": 88,
   "metadata": {},
   "outputs": [
    {
     "name": "stdout",
     "output_type": "stream",
     "text": [
      "[1, 2, 3, 6, 5, 4]\n",
      "[1, 2, 3, 4, 5, 6]\n",
      "1\n"
     ]
    }
   ],
   "source": [
    "a = [1,2,3]\n",
    "b = [6,5,4]\n",
    "c = a+b\n",
    "print(c)\n",
    "c.sort()\n",
    "print(c)\n",
    "cnt = c.count(1)\n",
    "print(cnt)"
   ]
  },
  {
   "cell_type": "markdown",
   "metadata": {},
   "source": [
    "# Tuple\n",
    "* When we say that tuples are ordered, it means that the items have a defined order, and that order will not change.\n",
    "* Tuples are unchangeable, meaning that we cannot change, add or remove items after the tuple has been created.\n",
    "* Since tuple are indexed, tuples can have items with the same value\n"
   ]
  },
  {
   "cell_type": "code",
   "execution_count": 32,
   "metadata": {},
   "outputs": [
    {
     "name": "stdout",
     "output_type": "stream",
     "text": [
      "('apple', 'banana', 'cherry', 'apple', 'cherry')\n",
      "<class 'tuple'>\n",
      "<class 'str'>\n",
      "('abc', 34, True, 40, 'male')\n",
      "banana\n",
      "('apple', 'banana', 'cherry')\n",
      "apple\n",
      "banana\n",
      "cherry\n",
      "('a', 'b', 'c', 1, 2, 3)\n"
     ]
    }
   ],
   "source": [
    "# Tuple \n",
    "\n",
    "# Tuple items are ordered, unchangeable, and allow duplicate values.\n",
    "\n",
    "thistuple = (\"apple\", \"banana\", \"cherry\", \"apple\", \"cherry\")\n",
    "print(thistuple)\n",
    "\n",
    "thistuple = (\"apple\",)\n",
    "print(type(thistuple))\n",
    "\n",
    "#NOT a tuple\n",
    "thistuple = (\"apple\")\n",
    "print(type(thistuple))\n",
    "\n",
    "\n",
    "tuple1 = (\"abc\", 34, True, 40, \"male\")\n",
    "print(tuple1)\n",
    "\n",
    "\n",
    "thistuple = (\"apple\", \"banana\", \"cherry\")\n",
    "print(thistuple[1])\n",
    "\n",
    "\n",
    "thistuple = (\"apple\", \"banana\", \"cherry\")\n",
    "# thistuple.append(\"orange\") # This will raise an error\n",
    "print(thistuple)\n",
    "\n",
    "\n",
    "\n",
    "# Loop over a tuple \n",
    "thistuple = (\"apple\", \"banana\", \"cherry\")\n",
    "for i in range(len(thistuple)):\n",
    "  print(thistuple[i])\n",
    "\n",
    "# join 2 tuples\n",
    "\n",
    "tuple1 = (\"a\", \"b\" , \"c\")\n",
    "tuple2 = (1, 2, 3)\n",
    "\n",
    "tuple3 = tuple1 + tuple2\n",
    "print(tuple3)"
   ]
  },
  {
   "cell_type": "markdown",
   "metadata": {},
   "source": [
    "# Set\n",
    "* Unordered means that the items in a set do not have a defined order, Set items can appear in a different order every time you use them, and cannot be referred to by index or key.\n",
    "* Sets are unchangeable, meaning that we cannot change the items after the set has been created.\n",
    "* Sets cannot have two items with the same value."
   ]
  },
  {
   "cell_type": "code",
   "execution_count": 45,
   "metadata": {},
   "outputs": [
    {
     "name": "stdout",
     "output_type": "stream",
     "text": [
      "{'apple', 'cherry', 'banana'}\n",
      "{True, 34, 'abc', 40, 'male'}\n",
      "<class 'set'>\n",
      "{'apple', 'cherry', 'banana'}\n",
      "apple\n",
      "cherry\n",
      "banana\n",
      "{'apple', 'cherry', 'orange', 'banana'}\n",
      "{'apple', 'cherry', 'banana', 'mango', 'papaya', 'pineapple'}\n",
      "{'cherry', 'apple', 'banana', 'kiwi', 'orange'}\n",
      "{'cherry', 'apple', 'banana', 'kiwi', 'orange'}\n",
      "{'apple', 'cherry'}\n",
      "{'apple', 'cherry'}\n"
     ]
    }
   ],
   "source": [
    "thisset = {\"apple\", \"banana\", \"cherry\", \"apple\"}\n",
    "\n",
    "print(thisset)\n",
    "\n",
    "set1 = {\"abc\", 34, True, 40, \"male\"}\n",
    "print(set1)\n",
    "\n",
    "myset = {\"apple\", \"banana\", \"cherry\"}\n",
    "print(type(myset))\n",
    "\n",
    "\n",
    "thisset = set((\"apple\", \"banana\", \"cherry\")) # note the double round-brackets\n",
    "print(thisset)\n",
    "\n",
    "# access set elements \n",
    "\n",
    "thisset = {\"apple\", \"banana\", \"cherry\"}\n",
    "\n",
    "for x in thisset:\n",
    "  print(x)\n",
    "\n",
    "\n",
    "# Add elements to a set \n",
    "thisset = {\"apple\", \"banana\", \"cherry\"}\n",
    "thisset.add(\"orange\")\n",
    "print(thisset)\n",
    "\n",
    "\n",
    "# Merge two sets \n",
    "\n",
    "thisset = {\"apple\", \"banana\", \"cherry\"}\n",
    "tropical = {\"pineapple\", \"mango\", \"papaya\"}\n",
    "thisset.update(tropical)\n",
    "print(thisset)\n",
    "\n",
    "\n",
    "# Add elements of list to set \n",
    "\n",
    "thisset = {\"apple\", \"banana\", \"cherry\"}\n",
    "mylist = [\"kiwi\", \"orange\"]\n",
    "thisset.update(mylist)\n",
    "print(thisset)\n",
    "\n",
    "thisset.add(\"banana\")\n",
    "print(thisset)\n",
    "\n",
    "\n",
    "# remove an element from the set if the element is not present an error is thrown\n",
    "\n",
    "thisset = {\"apple\", \"banana\", \"cherry\"}\n",
    "thisset.remove(\"banana\")\n",
    "print(thisset)\n",
    "\n",
    "\n",
    "# remove an element from the set if the element is not present an error is not thrown \n",
    "thisset = {\"apple\", \"banana\", \"cherry\"}\n",
    "thisset.discard(\"banana\")\n",
    "print(thisset)"
   ]
  },
  {
   "cell_type": "markdown",
   "metadata": {},
   "source": [
    "# Dictionary \n",
    "* Dictionaries are used to store data values in key:value pairs.\n",
    "* Dictionary items are ordered, changeable, and does not allow duplicates.\n",
    "* Dictionaries are changeable, meaning that we can change, add or remove items after the dictionary has been created.\n",
    "* Dictionaries cannot have two items with the same key"
   ]
  },
  {
   "cell_type": "code",
   "execution_count": 58,
   "metadata": {},
   "outputs": [
    {
     "name": "stdout",
     "output_type": "stream",
     "text": [
      "{'brand': 'Ford', 'model': 'Mustang', 'year': 1964}\n",
      "3\n",
      "{'brand': 'Ford', 'electric': False, 'year': 1964, 'colors': ['red', 'white', 'blue']}\n",
      "<class 'dict'>\n",
      "Ford\n",
      "Ford\n",
      "dict_keys(['brand', 'electric', 'year', 'colors'])\n",
      "dict_keys(['brand', 'model', 'year'])\n",
      "dict_keys(['brand', 'model', 'year', 'color'])\n",
      "dict_values(['Ford', False, 1964, ['red', 'white', 'blue']])\n",
      "dict_items([('brand', 'Ford'), ('electric', False), ('year', 1964), ('colors', ['red', 'white', 'blue'])])\n",
      "{'brand': 'Ford', 'model': 'Mustang', 'year': 2020}\n",
      "{'brand': 'Ford', 'model': 'Mustang', 'year': 1964, 'color': 'red'}\n"
     ]
    }
   ],
   "source": [
    "thisdict = {\n",
    "  \"brand\": \"Ford\",\n",
    "  \"model\": \"Mustang\",\n",
    "  \"year\": 1964\n",
    "}\n",
    "print(thisdict)\n",
    "\n",
    "\n",
    "# length of dictionary \n",
    "print(len(thisdict))\n",
    "\n",
    "\n",
    "# complex dictionary \n",
    "\n",
    "thisdict = {\n",
    "  \"brand\": \"Ford\",\n",
    "  \"electric\": False,\n",
    "  \"year\": 1964,\n",
    "  \"colors\": [\"red\", \"white\", \"blue\"]\n",
    "}\n",
    "\n",
    "print(thisdict)\n",
    "\n",
    "print(type(thisdict))\n",
    "\n",
    "#Access elements from a list \n",
    "\n",
    "x = thisdict[\"brand\"]\n",
    "print(x)\n",
    "\n",
    "# can also use the get method \n",
    "x = thisdict.get(\"brand\")\n",
    "print(x)\n",
    "\n",
    "# print the keys \n",
    "print(thisdict.keys())\n",
    "\n",
    "\n",
    "# Add a mew item to the list \n",
    "\n",
    "car = {\n",
    "\"brand\": \"Ford\",\n",
    "\"model\": \"Mustang\",\n",
    "\"year\": 1964\n",
    "}\n",
    "\n",
    "x = car.keys()\n",
    "\n",
    "print(x) #before the change\n",
    "\n",
    "car[\"color\"] = \"white\"\n",
    "\n",
    "print(x)\n",
    "\n",
    "\n",
    "# Get the values of the dict \n",
    "print(thisdict.values())\n",
    "\n",
    "# Get the list of items\n",
    "print(thisdict.items())\n",
    "\n",
    "\n",
    "\n",
    "# update the dict \n",
    "thisdict = {\n",
    "  \"brand\": \"Ford\",\n",
    "  \"model\": \"Mustang\",\n",
    "  \"year\": 1964\n",
    "}\n",
    "thisdict.update({\"year\": 2020})\n",
    "print(thisdict)\n",
    "\n",
    "# Add items to the dict \n",
    "thisdict = {\n",
    "  \"brand\": \"Ford\",\n",
    "  \"model\": \"Mustang\",\n",
    "  \"year\": 1964\n",
    "}\n",
    "thisdict.update({\"color\": \"red\"})\n",
    "print(thisdict)"
   ]
  },
  {
   "cell_type": "code",
   "execution_count": 66,
   "metadata": {},
   "outputs": [
    {
     "name": "stdout",
     "output_type": "stream",
     "text": [
      "10\n",
      "120\n"
     ]
    }
   ],
   "source": [
    "# Basics of python \n",
    "\n",
    "def addition(num1, num2):\n",
    "    result = num1+num2\n",
    "    return result\n",
    "\n",
    "print(addition(5,5))\n",
    "print(addition(100,20))"
   ]
  },
  {
   "cell_type": "markdown",
   "metadata": {},
   "source": [
    "# Variables "
   ]
  },
  {
   "cell_type": "code",
   "execution_count": 6,
   "metadata": {},
   "outputs": [
    {
     "name": "stdout",
     "output_type": "stream",
     "text": [
      "akshay and nupur are attending the class\n",
      "piyush is condicting a lecture\n",
      "<class 'float'>\n",
      "twenty\n",
      "<class 'str'>\n"
     ]
    }
   ],
   "source": [
    "username = \"akshay and nupur are attending the class\"\n",
    "print(username)\n",
    "username = \"piyush is condicting a lecture\"\n",
    "print(username)\n",
    "\n",
    "# variable can take any value\n",
    "num1 = 5\n",
    "price = 45.56\n",
    "a = True\n",
    "\n",
    "# BIFS (built in functions)\n",
    "print(type(price))\n",
    "\n",
    "price = \"twenty\"\n",
    "print(price)\n",
    "print(type(price))\n",
    "\n"
   ]
  },
  {
   "cell_type": "markdown",
   "metadata": {},
   "source": [
    "# Print function"
   ]
  },
  {
   "cell_type": "code",
   "execution_count": 17,
   "metadata": {},
   "outputs": [
    {
     "name": "stdout",
     "output_type": "stream",
     "text": [
      "The score is: 105\n"
     ]
    }
   ],
   "source": [
    "score = 105\n",
    "print(\"The score is: \" + str(score))"
   ]
  },
  {
   "cell_type": "markdown",
   "metadata": {},
   "source": [
    "# Type Conversion "
   ]
  },
  {
   "cell_type": "code",
   "execution_count": 16,
   "metadata": {},
   "outputs": [
    {
     "name": "stdout",
     "output_type": "stream",
     "text": [
      "45\n"
     ]
    }
   ],
   "source": [
    "price = 45.6\n",
    "round_price = int(price)\n",
    "print(round_price)"
   ]
  },
  {
   "cell_type": "code",
   "execution_count": 24,
   "metadata": {},
   "outputs": [
    {
     "name": "stdout",
     "output_type": "stream",
     "text": [
      "5\n"
     ]
    }
   ],
   "source": [
    "import random\n",
    "print(random.randrange(1, 6))"
   ]
  },
  {
   "cell_type": "markdown",
   "metadata": {},
   "source": [
    "# Strings "
   ]
  },
  {
   "cell_type": "code",
   "execution_count": 34,
   "metadata": {},
   "outputs": [
    {
     "name": "stdout",
     "output_type": "stream",
     "text": [
      "Piyu\n",
      "PIYUSH\n",
      "piyush\n",
      "varkhede\n"
     ]
    }
   ],
   "source": [
    "name = \"Piyush\"\n",
    "print(name[0:4])\n",
    "\n",
    "\n",
    "print(name.upper())\n",
    "print(name.lower())\n",
    "\n",
    "lastname = \"varkhede   \"\n",
    "print(lastname.strip())"
   ]
  },
  {
   "cell_type": "code",
   "execution_count": 37,
   "metadata": {},
   "outputs": [
    {
     "name": "stdout",
     "output_type": "stream",
     "text": [
      "True\n",
      "False\n",
      "False\n"
     ]
    }
   ],
   "source": [
    "print(10 > 9)\n",
    "print(10 == 9)\n",
    "print(10 < 9)"
   ]
  },
  {
   "cell_type": "code",
   "execution_count": 39,
   "metadata": {},
   "outputs": [
    {
     "name": "stdout",
     "output_type": "stream",
     "text": [
      "username is wrong\n"
     ]
    }
   ],
   "source": [
    "username = \"piyush\"\n",
    "if username==\"piyus\":\n",
    "    print(\"Logged in successfully\")\n",
    "else:\n",
    "    print(\"username is wrong\")"
   ]
  },
  {
   "cell_type": "code",
   "execution_count": 42,
   "metadata": {},
   "outputs": [
    {
     "name": "stdout",
     "output_type": "stream",
     "text": [
      "piyush\n",
      "chaudhari\n"
     ]
    }
   ],
   "source": [
    "Student = \"piyush\"\n",
    "student = \"chaudhari\"\n",
    "\n",
    "print(Student)\n",
    "print(student)"
   ]
  },
  {
   "cell_type": "code",
   "execution_count": 43,
   "metadata": {},
   "outputs": [
    {
     "name": "stdout",
     "output_type": "stream",
     "text": [
      "0\n"
     ]
    }
   ],
   "source": [
    "x = 10\n",
    "y = 5\n",
    "\n",
    "print(10%5)\n",
    "\n",
    "# The result of modulo operations is the remainder after division "
   ]
  },
  {
   "cell_type": "code",
   "execution_count": 44,
   "metadata": {},
   "outputs": [
    {
     "name": "stdout",
     "output_type": "stream",
     "text": [
      "Odd\n"
     ]
    }
   ],
   "source": [
    "# check if the number is odd or even\n",
    "\n",
    "num = 5\n",
    "if num%2==0:\n",
    "    print(\"Even\")\n",
    "else:\n",
    "    print(\"Odd\")"
   ]
  },
  {
   "cell_type": "code",
   "execution_count": 45,
   "metadata": {},
   "outputs": [
    {
     "name": "stdout",
     "output_type": "stream",
     "text": [
      "8\n"
     ]
    }
   ],
   "source": [
    "print(2**3)"
   ]
  },
  {
   "cell_type": "code",
   "execution_count": 46,
   "metadata": {},
   "outputs": [
    {
     "name": "stdout",
     "output_type": "stream",
     "text": [
      "2.5\n",
      "2\n"
     ]
    }
   ],
   "source": [
    "print(5/2) # - 2.5\n",
    "print(5//2) # 2"
   ]
  },
  {
   "cell_type": "code",
   "execution_count": 50,
   "metadata": {},
   "outputs": [
    {
     "data": {
      "text/plain": [
       "'/Users/piyush/Documents/p-code-base/datascience'"
      ]
     },
     "execution_count": 50,
     "metadata": {},
     "output_type": "execute_result"
    }
   ],
   "source": [
    "%pwd"
   ]
  },
  {
   "cell_type": "code",
   "execution_count": 51,
   "metadata": {},
   "outputs": [
    {
     "name": "stdout",
     "output_type": "stream",
     "text": [
      " GO CORONA GO !\n",
      " enter number of cases  4010\n",
      " enter number of cases  7010\n",
      " enter number of cases  50 10\n",
      " average 10.0\n"
     ]
    }
   ],
   "source": [
    "print (\" GO CORONA GO !\") \n",
    "num1 =  input(\" enter number of cases  40\") \n",
    "num2 =  input(\" enter number of cases  70\") \n",
    "num3  =  input(\" enter number of cases  50 \") \n",
    "result = float(num1)+ float(num2)+ float(num3) \n",
    "avg =  result/3 \n",
    "print(\" average \"+ str(avg))"
   ]
  },
  {
   "cell_type": "code",
   "execution_count": 54,
   "metadata": {},
   "outputs": [
    {
     "name": "stdout",
     "output_type": "stream",
     "text": [
      "nupur\n",
      "nupur\n"
     ]
    }
   ],
   "source": [
    "a = \"nupur\"\n",
    "b = 'nupur' \n",
    "print(a)\n",
    "print(b)"
   ]
  },
  {
   "cell_type": "code",
   "execution_count": null,
   "metadata": {},
   "outputs": [],
   "source": []
  }
 ],
 "metadata": {
  "kernelspec": {
   "display_name": "Python 3",
   "language": "python",
   "name": "python3"
  },
  "language_info": {
   "codemirror_mode": {
    "name": "ipython",
    "version": 3
   },
   "file_extension": ".py",
   "mimetype": "text/x-python",
   "name": "python",
   "nbconvert_exporter": "python",
   "pygments_lexer": "ipython3",
   "version": "3.7.5"
  }
 },
 "nbformat": 4,
 "nbformat_minor": 4
}
